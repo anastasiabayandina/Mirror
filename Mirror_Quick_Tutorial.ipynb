{
 "cells": [
  {
   "cell_type": "markdown",
   "metadata": {},
   "source": [
    "Импортируем все необходимые модули, в том числе mirror"
   ]
  },
  {
   "cell_type": "code",
   "execution_count": 1,
   "metadata": {
    "collapsed": false
   },
   "outputs": [],
   "source": [
    "%matplotlib inline\n",
    "from matplotlib import pyplot as plt\n",
    "import numpy as np\n",
    "import mirror"
   ]
  },
  {
   "cell_type": "code",
   "execution_count": 2,
   "metadata": {
    "collapsed": true
   },
   "outputs": [],
   "source": [
    "n = 10\n",
    "m = 100"
   ]
  },
  {
   "cell_type": "markdown",
   "metadata": {},
   "source": [
    "Создаём объект DataGenerator для генерации данных. Параметр sparse задаёт, будут матрица А и вектор с разреженными или нет. Если да, то параметр density задаёт степень разреженности."
   ]
  },
  {
   "cell_type": "code",
   "execution_count": 3,
   "metadata": {
    "collapsed": true
   },
   "outputs": [],
   "source": [
    "g = mirror.DataGenerator(n, m, sparse=False)\n",
    "A = g.generate_A()\n",
    "c = g.generate_c()\n",
    "b = g.generate_b()"
   ]
  },
  {
   "cell_type": "markdown",
   "metadata": {},
   "source": [
    "Создаём объект Mirror, указывая ему все параметры задачи."
   ]
  },
  {
   "cell_type": "code",
   "execution_count": 4,
   "metadata": {
    "collapsed": false
   },
   "outputs": [],
   "source": [
    "mr = mirror.Mirror(c=c, A=A, b=b)"
   ]
  },
  {
   "cell_type": "markdown",
   "metadata": {},
   "source": [
    "Внутри этого объекта имеется доступ ко всем параметрам задачи"
   ]
  },
  {
   "cell_type": "code",
   "execution_count": 5,
   "metadata": {
    "collapsed": false,
    "scrolled": true
   },
   "outputs": [
    {
     "name": "stdout",
     "output_type": "stream",
     "text": [
      "First 5 components of vector c: [ 0.30862676  0.05190558  0.49315685  0.44123928  0.78920947  0.53719634\n",
      "  0.78631933  0.40802841  0.32405996  0.27892841]\n",
      "\n",
      "First 5 components of vector b: [-0.28735706  1.45114465 -1.61408189  0.91144865 -0.27329403 -3.71442199\n",
      "  4.84278429 -4.5666791   0.85793679  2.91460942]\n",
      "\n",
      "Mg = 2.48046019391\n",
      "\n",
      "Mf = 1.55398620703\n"
     ]
    }
   ],
   "source": [
    "print 'First 5 components of vector c: ' + str(mr.c[:10]) + '\\n'\n",
    "print 'First 5 components of vector b: ' + str(mr.b[:10]) + '\\n'\n",
    "print 'Mg = ' + str(mr.Mg) + '\\n'\n",
    "print 'Mf = ' + str(mr.Mf)"
   ]
  },
  {
   "cell_type": "markdown",
   "metadata": {},
   "source": [
    "Метод solve класса Mirror решает задачу. В качестве первого параметра необходимо задать точность, с которой будут приближаться ограничения."
   ]
  },
  {
   "cell_type": "markdown",
   "metadata": {},
   "source": [
    "Метод solve можно запускать в двух видах. Первый -- это с фиксированным числом итераций. Для того, чтобы пойти по этому пути, нужно задать число итераций N_iter. Если число итераций не задано, то метод будет работать по второму пути: с критерием останова в виде двойственного зазора."
   ]
  },
  {
   "cell_type": "markdown",
   "metadata": {},
   "source": [
    "Список параметров метода solve:"
   ]
  },
  {
   "cell_type": "markdown",
   "metadata": {},
   "source": [
    "eps -- точность удовлетворения ограничениям"
   ]
  },
  {
   "cell_type": "markdown",
   "metadata": {},
   "source": [
    "N_iter -- число итераций"
   ]
  },
  {
   "cell_type": "markdown",
   "metadata": {},
   "source": [
    "stochastic -- True или False в зависимости от того, хотим стохастический метод или детерминированный"
   ]
  },
  {
   "cell_type": "markdown",
   "metadata": {},
   "source": [
    "check_every -- через каждые сколько итераций проверять значение зазора двойственности (если N_iter=None)"
   ]
  },
  {
   "cell_type": "markdown",
   "metadata": {},
   "source": [
    "max_iter -- максимальное число итераций (если N_iter=None)"
   ]
  },
  {
   "cell_type": "markdown",
   "metadata": {},
   "source": [
    "trace -- возвращать ли прогресс метода в течение итераций"
   ]
  },
  {
   "cell_type": "code",
   "execution_count": 6,
   "metadata": {
    "collapsed": false
   },
   "outputs": [
    {
     "name": "stdout",
     "output_type": "stream",
     "text": [
      "Algorithm has not converged\n"
     ]
    }
   ],
   "source": [
    "xN, lam, tr = mr.solve(eps=0.1, N_iter=100, trace=True)"
   ]
  },
  {
   "cell_type": "code",
   "execution_count": 7,
   "metadata": {
    "collapsed": false,
    "scrolled": true
   },
   "outputs": [
    {
     "data": {
      "image/png": "[encoded data removed]",
      "text/plain": [
       "<matplotlib.figure.Figure at 0x10778efd0>"
      ]
     },
     "metadata": {},
     "output_type": "display_data"
    }
   ],
   "source": [
    "plt.scatter(range(100), tr['objective'], color='blue')\n",
    "plt.scatter(range(100), tr['constraints'], color='red')\n",
    "plt.show()"
   ]
  },
  {
   "cell_type": "markdown",
   "metadata": {},
   "source": [
    "Теперь попробуем стохастический вариант метода, для этого данные лучше должны быть разреженными"
   ]
  },
  {
   "cell_type": "code",
   "execution_count": 8,
   "metadata": {
    "collapsed": false
   },
   "outputs": [],
   "source": [
    "g = mirror.DataGenerator(n, m, sparse=True, density=0.1)\n",
    "A = g.generate_A()\n",
    "c = g.generate_c()\n",
    "b = g.generate_b()\n",
    "\n",
    "mr = mirror.Mirror(c=c, A=A, b=b)"
   ]
  },
  {
   "cell_type": "code",
   "execution_count": 11,
   "metadata": {
    "collapsed": false,
    "scrolled": false
   },
   "outputs": [
    {
     "name": "stdout",
     "output_type": "stream",
     "text": [
      "Algorithm has not converged\n"
     ]
    }
   ],
   "source": [
    "xN, lam, tr = mr.solve(eps=0.1, N_iter=1000, stochastic=True, trace=True)"
   ]
  },
  {
   "cell_type": "markdown",
   "metadata": {},
   "source": [
    "Видим, что в стохастическом случае ограничения медленно-медленно начали спускаться"
   ]
  },
  {
   "cell_type": "code",
   "execution_count": 12,
   "metadata": {
    "collapsed": false
   },
   "outputs": [
    {
     "data": {
      "image/png": "[encoded data removed]",
      "text/plain": [
       "<matplotlib.figure.Figure at 0x107985110>"
      ]
     },
     "metadata": {},
     "output_type": "display_data"
    }
   ],
   "source": [
    "plt.scatter(range(1000), tr['objective'], color='blue')\n",
    "plt.scatter(range(1000), tr['constraints'], color='red')\n",
    "plt.show()"
   ]
  },
  {
   "cell_type": "markdown",
   "metadata": {
    "collapsed": true
   },
   "source": [
    "Теперь попробуем метод без фиксированного числа итераций (тут всё пока что плохо), для начала не в стохастическом случае (и в плотном, чтобы нагляднее)"
   ]
  },
  {
   "cell_type": "code",
   "execution_count": 16,
   "metadata": {
    "collapsed": true
   },
   "outputs": [],
   "source": [
    "g = mirror.DataGenerator(n, m, sparse=False)\n",
    "A = g.generate_A()\n",
    "c = g.generate_c()\n",
    "b = g.generate_b()\n",
    "\n",
    "mr = mirror.Mirror(c=c, A=A, b=b)"
   ]
  },
  {
   "cell_type": "code",
   "execution_count": 17,
   "metadata": {
    "collapsed": false
   },
   "outputs": [
    {
     "name": "stdout",
     "output_type": "stream",
     "text": [
      "Maximum number of iterations reached\n"
     ]
    }
   ],
   "source": [
    "xN, lam, tr = mr.solve(eps=0.1, stochastic=False, max_iter=100000, check_every=10000, trace=True)"
   ]
  },
  {
   "cell_type": "code",
   "execution_count": 18,
   "metadata": {
    "collapsed": false
   },
   "outputs": [
    {
     "data": {
      "image/png": "[encoded data removed]",
      "text/plain": [
       "<matplotlib.figure.Figure at 0x1079ab0d0>"
      ]
     },
     "metadata": {},
     "output_type": "display_data"
    }
   ],
   "source": [
    "plt.scatter(range(1000), tr['objective'][:1000], color='blue')\n",
    "plt.scatter(range(1000), tr['constraints'][:1000], color='red')\n",
    "plt.show()"
   ]
  },
  {
   "cell_type": "markdown",
   "metadata": {},
   "source": [
    "Видно, что целевая функция и ограничения уменьшаются, но почему зазор двойственности увеличивается?"
   ]
  },
  {
   "cell_type": "code",
   "execution_count": 23,
   "metadata": {
    "collapsed": false
   },
   "outputs": [
    {
     "data": {
      "text/plain": [
       "[387.6624680146025,\n",
       " 776.39986979620664,\n",
       " 1165.1627465688439,\n",
       " 1553.9318902866912,\n",
       " 1942.7035247716649,\n",
       " 2331.4764002241845,\n",
       " 2720.2499831853374,\n",
       " 3109.0240076344571,\n",
       " 3497.798326061421]"
      ]
     },
     "execution_count": 23,
     "metadata": {},
     "output_type": "execute_result"
    }
   ],
   "source": [
    "tr['gap']"
   ]
  },
  {
   "cell_type": "code",
   "execution_count": 24,
   "metadata": {
    "collapsed": false
   },
   "outputs": [
    {
     "data": {
      "image/png": "[encoded data removed]",
      "text/plain": [
       "<matplotlib.figure.Figure at 0x1079bd390>"
      ]
     },
     "metadata": {},
     "output_type": "display_data"
    }
   ],
   "source": [
    "plt.scatter(range(9), tr['gap'], color='blue')\n",
    "plt.show()"
   ]
  },
  {
   "cell_type": "code",
   "execution_count": null,
   "metadata": {
    "collapsed": true
   },
   "outputs": [],
   "source": []
  }
 ],
 "metadata": {
  "kernelspec": {
   "display_name": "Python 2",
   "language": "python",
   "name": "python2"
  },
  "language_info": {
   "codemirror_mode": {
    "name": "ipython",
    "version": 2
   },
   "file_extension": ".py",
   "mimetype": "text/x-python",
   "name": "python",
   "nbconvert_exporter": "python",
   "pygments_lexer": "ipython2",
   "version": "2.7.12"
  }
 },
 "nbformat": 4,
 "nbformat_minor": 1
}
